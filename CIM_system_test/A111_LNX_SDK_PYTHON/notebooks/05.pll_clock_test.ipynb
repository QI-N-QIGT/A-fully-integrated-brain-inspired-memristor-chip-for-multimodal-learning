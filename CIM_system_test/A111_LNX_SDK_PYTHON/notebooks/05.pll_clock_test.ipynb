{
 "cells": [
  {
   "cell_type": "markdown",
   "id": "18828b1f",
   "metadata": {},
   "source": [
    "# A111锁相环与时钟的基本操作以及相关测试"
   ]
  },
  {
   "cell_type": "markdown",
   "id": "d4218487",
   "metadata": {},
   "source": [
    "关于A111的锁相环和时钟的配置，具体可以参考A111芯片手册的3.1.1章节；\n",
    "\n",
    "<div><a href=\"pic/pll1.png\"><img style=\"float: left;border:2px solid orange\" src=\"pic/pll1.png\" width=750 title=\"点击放大看原图\"></a><br /></div>"
   ]
  },
  {
   "cell_type": "markdown",
   "id": "978869a8",
   "metadata": {},
   "source": [
    "与锁相环与时钟相关的寄存器定义，可参考A111芯片手册3.1.3章节：\n",
    "\n",
    "<div><a href=\"pic/pll2.png\"><img style=\"float: left;border:3px solid orange\" src=\"pic/pll2.png\" width=750 title=\"点击放大看原图\"></a><br /></div>"
   ]
  },
  {
   "cell_type": "markdown",
   "id": "bb3ebf56",
   "metadata": {},
   "source": [
    "**注意，锁相环与时钟相关的控制寄存器的基地址为0xF0008000，见上图**"
   ]
  },
  {
   "cell_type": "markdown",
   "id": "1197bedd",
   "metadata": {},
   "source": [
    "PLL寄存器各个bit的定义如下：\n",
    "<div><a href=\"pic/pll3.png\"><img style=\"float: left;border:2px solid blue\" src=\"pic/pll3.png\" width=300 title=\"点击放大看原图\"></a><br /></div>"
   ]
  },
  {
   "cell_type": "markdown",
   "id": "0d333e72",
   "metadata": {},
   "source": [
    "可以通过命令方式在终端上快速查看锁相环与时钟的相关配置信息；\n",
    "\n",
    "其中，锁相环返回的是寄存器值（PLL_CTL0/PLL_CTL1/PLL_CTL2），而时钟返回的是div和bypass值；\n",
    "\n",
    "<div><br /><a href=\"pic/pll4.png\"><img style=\"float: left;\" src=\"pic/pll4.png\" width=500 title=\"点击放大看原图\"></a><br /></div>"
   ]
  },
  {
   "cell_type": "markdown",
   "id": "e734bb21",
   "metadata": {},
   "source": [
    "同样，我们也可以在jupyter notebook中执行shell命令进行查看："
   ]
  },
  {
   "cell_type": "code",
   "execution_count": null,
   "id": "03ebad26",
   "metadata": {
    "scrolled": true
   },
   "outputs": [],
   "source": [
    "!tree /sys/class/icfc-npu/c210-a111/pll"
   ]
  },
  {
   "cell_type": "code",
   "execution_count": null,
   "id": "e19c7c11",
   "metadata": {},
   "outputs": [],
   "source": [
    "!tree /sys/class/icfc-npu/c210-a111/clock"
   ]
  },
  {
   "cell_type": "code",
   "execution_count": null,
   "id": "972aaf5e",
   "metadata": {},
   "outputs": [],
   "source": [
    "import time\n",
    "import ipywidgets as widgets\n",
    "import a111sdk\n",
    "\n",
    "# 打开设备（根据驱动的设计，设备打开后会自动上电，因此不需要主动调用“a111_power_on()”）\n",
    "a111sdk.open_a111()"
   ]
  },
  {
   "cell_type": "markdown",
   "id": "0739ff52",
   "metadata": {},
   "source": [
    "设备打开后，即可通过命令行去查看各个寄存器的值："
   ]
  },
  {
   "cell_type": "code",
   "execution_count": null,
   "id": "4c1d4774",
   "metadata": {},
   "outputs": [],
   "source": [
    "!cat /sys/class/icfc-npu/c210-a111/pll/PLL_CTL0\n",
    "!cat /sys/class/icfc-npu/c210-a111/pll/PLL_CTL1\n",
    "!cat /sys/class/icfc-npu/c210-a111/pll/PLL_CTL2"
   ]
  },
  {
   "cell_type": "code",
   "execution_count": null,
   "id": "66a0c9fb",
   "metadata": {
    "scrolled": true
   },
   "outputs": [],
   "source": [
    "!cat /sys/class/icfc-npu/c210-a111/clock/A_CLK\n",
    "!cat /sys/class/icfc-npu/c210-a111/clock/ADC_CLK\n",
    "!cat /sys/class/icfc-npu/c210-a111/clock/APB_CLK\n",
    "!cat /sys/class/icfc-npu/c210-a111/clock/HF_CLK\n",
    "!cat /sys/class/icfc-npu/c210-a111/clock/M_CLK\n",
    "!cat /sys/class/icfc-npu/c210-a111/clock/PERI_CLK"
   ]
  },
  {
   "cell_type": "markdown",
   "id": "25082101",
   "metadata": {},
   "source": [
    "测试结束，关闭设备："
   ]
  },
  {
   "cell_type": "code",
   "execution_count": null,
   "id": "514d6336",
   "metadata": {},
   "outputs": [],
   "source": [
    "a111sdk.close_a111()"
   ]
  },
  {
   "cell_type": "markdown",
   "id": "e52b549f",
   "metadata": {},
   "source": [
    "## 基本操作"
   ]
  },
  {
   "cell_type": "markdown",
   "id": "6b5077e9",
   "metadata": {},
   "source": [
    "### 时钟相关操作"
   ]
  },
  {
   "cell_type": "code",
   "execution_count": null,
   "id": "c2f50fcc",
   "metadata": {},
   "outputs": [],
   "source": [
    "import time\n",
    "import ipywidgets as widgets\n",
    "import a111sdk\n",
    "\n",
    "\n",
    "# 打开设备（根据驱动的设计，设备打开后会自动上电，因此不需要主动调用“a111_power_on()”）\n",
    "a111sdk.open_a111()\n",
    "print()\n",
    "print(\"未做任何初始化的情况下，打开设备，读取时钟的默认值\")\n",
    "print()\n",
    "\n",
    "(div, bypass) = a111sdk.a111_clock_get(a111sdk.HFCLK)\n",
    "print(f\"div of HFCLK is {div}, bypass is {bypass}\")\n",
    "\n",
    "(div, bypass) = a111sdk.a111_clock_get(a111sdk.MCLK)\n",
    "print(f\"div of MCLK is {div}, bypass is {bypass}\")\n",
    "\n",
    "(div, bypass) = a111sdk.a111_clock_get(a111sdk.ACLK)\n",
    "print(f\"div of ACLK is {div}, bypass is {bypass}\")\n",
    "\n",
    "(div, bypass) = a111sdk.a111_clock_get(a111sdk.ADC_CLK)\n",
    "print(f\"div of ADC_CLK is {div}, bypass is {bypass}\")\n",
    "\n",
    "(div, bypass) = a111sdk.a111_clock_get(a111sdk.PERI_CLK)\n",
    "print(f\"div of PERI_CLK is {div}, bypass is {bypass}\")\n",
    "\n",
    "(div, bypass) = a111sdk.a111_clock_get(a111sdk.APB_CLK)\n",
    "print(f\"div of APB_CLK is {div}, bypass is {bypass}\")\n"
   ]
  },
  {
   "cell_type": "code",
   "execution_count": null,
   "id": "105dac43",
   "metadata": {},
   "outputs": [],
   "source": [
    "\n",
    "div = 2\n",
    "bypass = True\n",
    "\n",
    "print()\n",
    "print(f\"设置各个时钟, div={div}, bypass={bypass}\")\n",
    "print()\n",
    "\n",
    "a111sdk.a111_clock_set(a111sdk.HFCLK, div, bypass)\n",
    "a111sdk.a111_clock_set(a111sdk.MCLK, div, bypass)\n",
    "a111sdk.a111_clock_set(a111sdk.ACLK, div, bypass)\n",
    "a111sdk.a111_clock_set(a111sdk.ADC_CLK, div, bypass)\n",
    "a111sdk.a111_clock_set(a111sdk.PERI_CLK, div, bypass)\n",
    "a111sdk.a111_clock_set(a111sdk.APB_CLK, div, bypass)"
   ]
  },
  {
   "cell_type": "code",
   "execution_count": null,
   "id": "c24bfb18",
   "metadata": {
    "scrolled": true
   },
   "outputs": [],
   "source": [
    "print()\n",
    "print(f\"再次读取并检查设置是否正确\")\n",
    "print()\n",
    "\n",
    "\n",
    "(div, bypass) = a111sdk.a111_clock_get(a111sdk.HFCLK)\n",
    "print(f\"div of HFCLK is {div}, bypass is {bypass}\")\n",
    "\n",
    "(div, bypass) = a111sdk.a111_clock_get(a111sdk.MCLK)\n",
    "print(f\"div of MCLK is {div}, bypass is {bypass}\")\n",
    "\n",
    "(div, bypass) = a111sdk.a111_clock_get(a111sdk.ACLK)\n",
    "print(f\"div of ACLK is {div}, bypass is {bypass}\")\n",
    "\n",
    "(div, bypass) = a111sdk.a111_clock_get(a111sdk.ADC_CLK)\n",
    "print(f\"div of ADC_CLK is {div}, bypass is {bypass}\")\n",
    "\n",
    "(div, bypass) = a111sdk.a111_clock_get(a111sdk.PERI_CLK)\n",
    "print(f\"div of PERI_CLK is {div}, bypass is {bypass}\")\n",
    "\n",
    "(div, bypass) = a111sdk.a111_clock_get(a111sdk.APB_CLK)\n",
    "print(f\"div of APB_CLK is {div}, bypass is {bypass}\")"
   ]
  },
  {
   "cell_type": "code",
   "execution_count": null,
   "id": "3366ff72",
   "metadata": {},
   "outputs": [],
   "source": [
    "print()\n",
    "print(f\"通过命令行方式再次读取并检查设置是否正确\")\n",
    "print()\n",
    "!cat /sys/class/icfc-npu/c210-a111/clock/A_CLK\n",
    "!cat /sys/class/icfc-npu/c210-a111/clock/ADC_CLK\n",
    "!cat /sys/class/icfc-npu/c210-a111/clock/APB_CLK\n",
    "!cat /sys/class/icfc-npu/c210-a111/clock/HF_CLK\n",
    "!cat /sys/class/icfc-npu/c210-a111/clock/M_CLK\n",
    "!cat /sys/class/icfc-npu/c210-a111/clock/PERI_CLK"
   ]
  },
  {
   "cell_type": "code",
   "execution_count": null,
   "id": "82e0b5aa",
   "metadata": {
    "scrolled": false
   },
   "outputs": [],
   "source": [
    "a111sdk.close_a111()"
   ]
  },
  {
   "cell_type": "markdown",
   "id": "af8ffac0",
   "metadata": {},
   "source": [
    "### 锁相环相关操作"
   ]
  },
  {
   "cell_type": "code",
   "execution_count": 15,
   "id": "56e45e96",
   "metadata": {
    "scrolled": true
   },
   "outputs": [
    {
     "name": "stdout",
     "output_type": "stream",
     "text": [
      "设备已打开！\n",
      "\n",
      "未做任何初始化的情况下，打开设备，读取PLL的默认值\n",
      "\n",
      "register value of PLL0 is 0x00040201\n",
      "register value of PLL1 is 0x00044402\n",
      "register value of PLL2 is 0x00040382\n"
     ]
    }
   ],
   "source": [
    "import time\n",
    "import ipywidgets as widgets\n",
    "import a111sdk\n",
    "\n",
    "\n",
    "# 打开设备（根据驱动的设计，设备打开后会自动上电，因此不需要主动调用“a111_power_on()”）\n",
    "a111sdk.open_a111()\n",
    "\n",
    "print()\n",
    "print(\"未做任何初始化的情况下，打开设备，读取PLL的默认值\")\n",
    "print()\n",
    "\n",
    "reg_val = a111sdk.a111_pll_get(a111sdk.PLL0)\n",
    "print(f\"register value of PLL0 is 0x{reg_val.bits:08x}\")\n",
    "\n",
    "reg_val = a111sdk.a111_pll_get(a111sdk.PLL1)\n",
    "print(f\"register value of PLL1 is 0x{reg_val.bits:08x}\")\n",
    "\n",
    "reg_val = a111sdk.a111_pll_get(a111sdk.PLL2)\n",
    "print(f\"register value of PLL2 is 0x{reg_val.bits:08x}\")"
   ]
  },
  {
   "cell_type": "code",
   "execution_count": 16,
   "id": "68b7baa0",
   "metadata": {},
   "outputs": [
    {
     "name": "stdout",
     "output_type": "stream",
     "text": [
      "\n",
      "设置各个PLL\n",
      "\n"
     ]
    }
   ],
   "source": [
    "print()\n",
    "print(f\"设置各个PLL\")\n",
    "print()\n",
    "\n",
    "\n",
    "'''\n",
    "class reg_pll_ctl(Reg32):\n",
    "    FIELDS = (\n",
    "        ('pll_n',       6),\n",
    "        ('pll_m',       6),\n",
    "        ('rsv0',        2),\n",
    "        ('pll_od',      2),\n",
    "        ('rsv1',        2),\n",
    "        ('pll_bypass',  1),\n",
    "        ('rsv2',        10),\n",
    "        ('pll_asleep',  1),\n",
    "        ('pll_reset',   1),\n",
    "        ('rsv3',        1),\n",
    "    )\n",
    "'''\n",
    "\n",
    "val = a111sdk.reg_pll_ctl()\n",
    "val.pll_n = 1\n",
    "val.pll_m = 1\n",
    "val.pll_od = 1\n",
    "val.pll_bypass = 1\n",
    "\n",
    "a111sdk.a111_pll_set(a111sdk.PLL0, val)\n",
    "\n",
    "a111sdk.a111_pll_set(a111sdk.PLL1, val)\n",
    "\n",
    "a111sdk.a111_pll_set(a111sdk.PLL2, val)"
   ]
  },
  {
   "cell_type": "code",
   "execution_count": 17,
   "id": "91336a6b",
   "metadata": {},
   "outputs": [
    {
     "name": "stdout",
     "output_type": "stream",
     "text": [
      "\n",
      "再次读取并检查设置是否正确\n",
      "\n",
      "register value of PLL0 is 0x00044041\n",
      "register value of PLL1 is 0x00044041\n",
      "register value of PLL2 is 0x00044041\n"
     ]
    }
   ],
   "source": [
    "print()\n",
    "print(f\"再次读取并检查设置是否正确\")\n",
    "print()\n",
    "\n",
    "reg_val = a111sdk.a111_pll_get(a111sdk.PLL0)\n",
    "print(f\"register value of PLL0 is 0x{reg_val.bits:08x}\")\n",
    "\n",
    "reg_val = a111sdk.a111_pll_get(a111sdk.PLL1)\n",
    "print(f\"register value of PLL1 is 0x{reg_val.bits:08x}\")\n",
    "\n",
    "reg_val = a111sdk.a111_pll_get(a111sdk.PLL2)\n",
    "print(f\"register value of PLL2 is 0x{reg_val.bits:08x}\")"
   ]
  },
  {
   "cell_type": "code",
   "execution_count": 18,
   "id": "7a22e0cb",
   "metadata": {},
   "outputs": [
    {
     "name": "stdout",
     "output_type": "stream",
     "text": [
      "PLL_CTL0's reg value is 0x00044041\n",
      "PLL_CTL1's reg value is 0x00044041\n",
      "PLL_CTL2's reg value is 0x00044041\n"
     ]
    }
   ],
   "source": [
    "!cat /sys/class/icfc-npu/c210-a111/pll/PLL_CTL0\n",
    "!cat /sys/class/icfc-npu/c210-a111/pll/PLL_CTL1\n",
    "!cat /sys/class/icfc-npu/c210-a111/pll/PLL_CTL2"
   ]
  },
  {
   "cell_type": "code",
   "execution_count": null,
   "id": "50e4ff27",
   "metadata": {},
   "outputs": [],
   "source": []
  },
  {
   "cell_type": "code",
   "execution_count": null,
   "id": "fcebaa5d",
   "metadata": {},
   "outputs": [],
   "source": []
  },
  {
   "cell_type": "code",
   "execution_count": null,
   "id": "55a3e0ab",
   "metadata": {},
   "outputs": [],
   "source": []
  },
  {
   "cell_type": "code",
   "execution_count": null,
   "id": "15358025",
   "metadata": {},
   "outputs": [],
   "source": []
  },
  {
   "cell_type": "code",
   "execution_count": null,
   "id": "3d37a6eb",
   "metadata": {},
   "outputs": [],
   "source": []
  }
 ],
 "metadata": {
  "kernelspec": {
   "display_name": "Python 3 (ipykernel)",
   "language": "python",
   "name": "python3"
  },
  "language_info": {
   "codemirror_mode": {
    "name": "ipython",
    "version": 3
   },
   "file_extension": ".py",
   "mimetype": "text/x-python",
   "name": "python",
   "nbconvert_exporter": "python",
   "pygments_lexer": "ipython3",
   "version": "3.7.0b3"
  }
 },
 "nbformat": 4,
 "nbformat_minor": 5
}
