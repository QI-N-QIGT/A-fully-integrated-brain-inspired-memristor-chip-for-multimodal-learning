{
 "cells": [
  {
   "cell_type": "markdown",
   "id": "167a86fa",
   "metadata": {},
   "source": [
    "# A111 TILE 寄存器操作"
   ]
  },
  {
   "cell_type": "markdown",
   "id": "3f35aef3",
   "metadata": {},
   "source": [
    "测试并验证编译器组睿华同学提供的TILE寄存器接口函数；\n",
    "\n",
    "这些接口函数所涉及的寄存器均为搭建深度网络时所用到的重要寄存器；\n",
    "\n",
    "此处我们借助这些接口函数对寄存器进行写操作，然后使用通用接口去读取寄存器的内容并进行比对；"
   ]
  },
  {
   "cell_type": "code",
   "execution_count": 1,
   "id": "29b0d2ce",
   "metadata": {},
   "outputs": [],
   "source": [
    "import a111sdk"
   ]
  },
  {
   "cell_type": "code",
   "execution_count": 2,
   "id": "a1358e67",
   "metadata": {},
   "outputs": [
    {
     "name": "stdout",
     "output_type": "stream",
     "text": [
      "设备已打开！\n"
     ]
    }
   ],
   "source": [
    "a111sdk.open_a111()"
   ]
  },
  {
   "cell_type": "code",
   "execution_count": 3,
   "id": "972aaf5e",
   "metadata": {},
   "outputs": [],
   "source": [
    "a111sdk.set_tile_xb_adc_range(a111sdk.TILE0, [a111sdk.XB0,a111sdk.XB1,a111sdk.XB2,a111sdk.XB3])"
   ]
  },
  {
   "cell_type": "code",
   "execution_count": null,
   "id": "dea2f184",
   "metadata": {},
   "outputs": [],
   "source": []
  },
  {
   "cell_type": "code",
   "execution_count": null,
   "id": "03e3dcfb",
   "metadata": {},
   "outputs": [],
   "source": []
  },
  {
   "cell_type": "code",
   "execution_count": null,
   "id": "ca014878",
   "metadata": {},
   "outputs": [],
   "source": []
  },
  {
   "cell_type": "code",
   "execution_count": null,
   "id": "58361b97",
   "metadata": {},
   "outputs": [],
   "source": []
  },
  {
   "cell_type": "code",
   "execution_count": null,
   "id": "dcc851fa",
   "metadata": {},
   "outputs": [],
   "source": []
  },
  {
   "cell_type": "code",
   "execution_count": null,
   "id": "3912afd0",
   "metadata": {},
   "outputs": [],
   "source": []
  },
  {
   "cell_type": "code",
   "execution_count": null,
   "id": "e74f6940",
   "metadata": {},
   "outputs": [],
   "source": []
  },
  {
   "cell_type": "code",
   "execution_count": null,
   "id": "38dd2634",
   "metadata": {},
   "outputs": [],
   "source": []
  }
 ],
 "metadata": {
  "kernelspec": {
   "display_name": "Python 3 (ipykernel)",
   "language": "python",
   "name": "python3"
  },
  "language_info": {
   "codemirror_mode": {
    "name": "ipython",
    "version": 3
   },
   "file_extension": ".py",
   "mimetype": "text/x-python",
   "name": "python",
   "nbconvert_exporter": "python",
   "pygments_lexer": "ipython3",
   "version": "3.7.0b3"
  }
 },
 "nbformat": 4,
 "nbformat_minor": 5
}
