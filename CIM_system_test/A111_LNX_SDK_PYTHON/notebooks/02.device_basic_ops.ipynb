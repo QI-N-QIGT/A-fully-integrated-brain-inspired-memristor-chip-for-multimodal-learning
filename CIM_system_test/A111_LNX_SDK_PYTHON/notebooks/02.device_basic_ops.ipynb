{
 "cells": [
  {
   "cell_type": "markdown",
   "id": "edc3e3e4",
   "metadata": {},
   "source": [
    "# 设备的打开/关闭以及核心板开/关电"
   ]
  },
  {
   "cell_type": "markdown",
   "id": "9dcae8be",
   "metadata": {},
   "source": [
    "C210-A111集成测试平台是由FPGA控制板和A111核心板组合而成，其中A111核心板可以单独上下电(由FPGA控制)；\n",
    "\n",
    "核心板上电后，相关的指示灯会被点亮：\n",
    "\n",
    "\n",
    "<div><br /><br /><a href=\"pic/C210-A111-poweron.jpg\"><img style=\"float: left;\" src=\"pic/C210-A111-poweron.jpg\" width=300 title=\"点击放大看原图\"></a></div>"
   ]
  },
  {
   "cell_type": "markdown",
   "id": "45685f45",
   "metadata": {},
   "source": [
    "导入a111sdk包，其中包含有相关操作api"
   ]
  },
  {
   "cell_type": "code",
   "execution_count": null,
   "id": "5c194a50",
   "metadata": {
    "ExecuteTime": {
     "end_time": "2023-04-17T08:05:28.184822Z",
     "start_time": "2023-04-17T08:05:28.143360Z"
    }
   },
   "outputs": [],
   "source": [
    "import a111sdk"
   ]
  },
  {
   "cell_type": "markdown",
   "id": "e7171af5",
   "metadata": {},
   "source": [
    "在执行任意操作前，必须先主动打开设备；\n",
    "\n",
    "该操作会初始化A111 SDK中维护的设备句柄，而后续所有的其它操作，如电压源、电流源的设置/查询，硬件版本信息的获取等，都依赖该句柄；\n",
    "\n",
    "若设备句柄未被初始化，则后续操作都会执行失败。"
   ]
  },
  {
   "cell_type": "code",
   "execution_count": null,
   "id": "e1876dc9",
   "metadata": {
    "ExecuteTime": {
     "end_time": "2023-04-17T08:05:28.811230Z",
     "start_time": "2023-04-17T08:05:28.753233Z"
    }
   },
   "outputs": [],
   "source": [
    "a111sdk.open_a111()"
   ]
  },
  {
   "cell_type": "markdown",
   "id": "b06db467",
   "metadata": {},
   "source": [
    "读取一下硬件产品ID与版本信息："
   ]
  },
  {
   "cell_type": "code",
   "execution_count": null,
   "id": "17d2f9dc",
   "metadata": {
    "ExecuteTime": {
     "end_time": "2023-04-17T08:05:29.629759Z",
     "start_time": "2023-04-17T08:05:29.613222Z"
    }
   },
   "outputs": [],
   "source": [
    "buf = a111sdk.a111_get_hw_prd()\n",
    "print(f\"硬件产品ID：{buf.decode()}\")"
   ]
  },
  {
   "cell_type": "code",
   "execution_count": null,
   "id": "8dd21d08",
   "metadata": {
    "ExecuteTime": {
     "end_time": "2023-04-17T08:05:30.239951Z",
     "start_time": "2023-04-17T08:05:30.223189Z"
    },
    "scrolled": true
   },
   "outputs": [],
   "source": [
    "buf = a111sdk.a111_get_hw_ver()\n",
    "print(f\"硬件设备版本：{buf.decode()}\")"
   ]
  },
  {
   "cell_type": "markdown",
   "id": "55235769",
   "metadata": {},
   "source": [
    "测试结束，关闭设备："
   ]
  },
  {
   "cell_type": "code",
   "execution_count": null,
   "id": "e69139e7",
   "metadata": {},
   "outputs": [],
   "source": [
    "a111sdk.close_a111()"
   ]
  },
  {
   "cell_type": "markdown",
   "id": "1690e529",
   "metadata": {},
   "source": [
    "此时核心板上的电源指示灯都会熄灭：\n",
    "\n",
    "<div><br /><a href=\"pic/C210-A111-poweroff.jpg\"><img style=\"float: left;\" src=\"pic/C210-A111-poweroff.jpg\" width=320 title=\"点击放大看原图\"></a></div>"
   ]
  },
  {
   "cell_type": "markdown",
   "id": "bd8cde37",
   "metadata": {},
   "source": [
    "***"
   ]
  },
  {
   "cell_type": "markdown",
   "id": "8774a3b0",
   "metadata": {},
   "source": [
    "# 电源开关测试"
   ]
  },
  {
   "cell_type": "markdown",
   "id": "c4db4582",
   "metadata": {},
   "source": [
    "## case 1: 循环上、下电1000次"
   ]
  },
  {
   "cell_type": "code",
   "execution_count": 8,
   "id": "65f75d57",
   "metadata": {},
   "outputs": [
    {
     "name": "stdout",
     "output_type": "stream",
     "text": [
      "设备已打开！\n"
     ]
    },
    {
     "data": {
      "application/vnd.jupyter.widget-view+json": {
       "model_id": "d269d7d34a044b8f9af8363917c6ec55",
       "version_major": 2,
       "version_minor": 0
      },
      "text/plain": [
       "IntProgress(value=0, bar_style='success', description='Testing', max=9999)"
      ]
     },
     "metadata": {},
     "output_type": "display_data"
    },
    {
     "name": "stdout",
     "output_type": "stream",
     "text": [
      "write 0x55AA55AA to tile 0's slave_addr0\n",
      "read value of tile 0's slave_addr0\n",
      "写入与读出值相同，测试成功\n"
     ]
    },
    {
     "data": {
      "text/plain": [
       "0"
      ]
     },
     "execution_count": 8,
     "metadata": {},
     "output_type": "execute_result"
    }
   ],
   "source": [
    "import time\n",
    "import ipywidgets as widgets\n",
    "import a111sdk\n",
    "\n",
    "total_loop = 1000\n",
    "progress_widget = widgets.IntProgress(value=0, min=0, max=(total_loop-1), description=\"Testing\", bar_style='success')\n",
    "\n",
    "# 打开设备\n",
    "a111sdk.open_a111()\n",
    "\n",
    "# 显示进度条插件\n",
    "display(progress_widget)\n",
    "\n",
    "for i in range(total_loop):\n",
    "    progress_widget.value = i\n",
    "    progress_widget.description=\"Testing： \"+str(i+1)\n",
    "    a111sdk.a111_power_on()\n",
    "    time.sleep(3)\n",
    "    a111sdk.a111_power_off()\n",
    "    time.sleep(0.01)\n",
    "    #print(f\"loop {i} finished.\")\n",
    "    \n",
    "progress_widget.description=\"Test Done!\"\n",
    "# 重新上电，写入后读取tile寄存器的值，并检查读取值是否与写入的值一致\n",
    "a111sdk.a111_power_on()\n",
    "print(\"write 0x55AA55AA to tile 0's slave_addr0\")\n",
    "a111sdk.a111_write_tile_reg32(0, 0, 0x55AA55AA) #tile0, reg:slave_addr0\n",
    "time.sleep(0.2)\n",
    "print(\"read value of tile 0's slave_addr0\")\n",
    "t_val = a111sdk.a111_read_tile_reg32(0, 0)\n",
    "\n",
    "if 0x55AA55AA == t_val:\n",
    "    print(\"写入与读出值相同，测试成功\")\n",
    "else:\n",
    "    print(\"写入与读出值不同，测试失败！！！\")\n",
    "    \n",
    "a111sdk.a111_power_off()\n",
    "a111sdk.close_a111()\n",
    "# if progress_widget is not None:\n",
    "#     progress_widget.close() "
   ]
  },
  {
   "cell_type": "markdown",
   "id": "86dce4ff",
   "metadata": {},
   "source": [
    "## case 2：重复多次上电"
   ]
  },
  {
   "cell_type": "code",
   "execution_count": 9,
   "id": "58967ba8",
   "metadata": {},
   "outputs": [
    {
     "name": "stdout",
     "output_type": "stream",
     "text": [
      "设备已打开！\n"
     ]
    },
    {
     "data": {
      "application/vnd.jupyter.widget-view+json": {
       "model_id": "8d367b854cdc419db0208d19b74ad684",
       "version_major": 2,
       "version_minor": 0
      },
      "text/plain": [
       "IntProgress(value=0, bar_style='success', description='Testing', max=99)"
      ]
     },
     "metadata": {},
     "output_type": "display_data"
    },
    {
     "name": "stdout",
     "output_type": "stream",
     "text": [
      "write 0x55AA55AA to tile 0's slave_addr0\n",
      "read value of tile 0's slave_addr0\n",
      "写入与读出值相同，测试成功\n"
     ]
    },
    {
     "data": {
      "text/plain": [
       "0"
      ]
     },
     "execution_count": 9,
     "metadata": {},
     "output_type": "execute_result"
    }
   ],
   "source": [
    "import time\n",
    "import ipywidgets as widgets\n",
    "import a111sdk\n",
    "\n",
    "total_loop = 100\n",
    "progress_widget = widgets.IntProgress(value=0, min=0, max=(total_loop-1), description=\"Testing\", bar_style='success')\n",
    "\n",
    "# 打开设备\n",
    "a111sdk.open_a111()\n",
    "\n",
    "# 显示进度条插件\n",
    "display(progress_widget)\n",
    "\n",
    "for i in range(total_loop):\n",
    "    progress_widget.value = i\n",
    "    progress_widget.description=\"Testing： \"+str(i+1)\n",
    "    a111sdk.a111_power_on()\n",
    "    time.sleep(1)\n",
    "    \n",
    "progress_widget.description=\"Test Done!\"\n",
    "# 重新上电，写入后读取tile寄存器的值，并检查读取值是否与写入的值一致\n",
    "a111sdk.a111_power_on()\n",
    "print(\"write 0x55AA55AA to tile 0's slave_addr0\")\n",
    "a111sdk.a111_write_tile_reg32(0, 0, 0x55AA55AA) #tile0, reg:slave_addr0\n",
    "time.sleep(0.2)\n",
    "print(\"read value of tile 0's slave_addr0\")\n",
    "t_val = a111sdk.a111_read_tile_reg32(0, 0)\n",
    "\n",
    "if 0x55AA55AA == t_val:\n",
    "    print(\"写入与读出值相同，测试成功\")\n",
    "else:\n",
    "    print(\"写入与读出值不同，测试失败！！！\")\n",
    "    \n",
    "a111sdk.a111_power_off()\n",
    "a111sdk.close_a111()"
   ]
  },
  {
   "cell_type": "markdown",
   "id": "f089bce4",
   "metadata": {},
   "source": [
    "## case 3：重复多次关电"
   ]
  },
  {
   "cell_type": "code",
   "execution_count": 10,
   "id": "1baa81cc",
   "metadata": {},
   "outputs": [
    {
     "name": "stdout",
     "output_type": "stream",
     "text": [
      "设备已打开！\n"
     ]
    },
    {
     "data": {
      "application/vnd.jupyter.widget-view+json": {
       "model_id": "9bf25e715f1c4368b6d1f698553cdfa9",
       "version_major": 2,
       "version_minor": 0
      },
      "text/plain": [
       "IntProgress(value=0, bar_style='success', description='Testing', max=99)"
      ]
     },
     "metadata": {},
     "output_type": "display_data"
    },
    {
     "name": "stdout",
     "output_type": "stream",
     "text": [
      "write 0x55AA55AA to tile 0's slave_addr0\n",
      "read value of tile 0's slave_addr0\n",
      "写入与读出值相同，测试成功\n"
     ]
    },
    {
     "data": {
      "text/plain": [
       "0"
      ]
     },
     "execution_count": 10,
     "metadata": {},
     "output_type": "execute_result"
    }
   ],
   "source": [
    "import time\n",
    "import ipywidgets as widgets\n",
    "import a111sdk\n",
    "\n",
    "total_loop = 100\n",
    "progress_widget = widgets.IntProgress(value=0, min=0, max=(total_loop-1), description=\"Testing\", bar_style='success')\n",
    "\n",
    "# 打开设备\n",
    "a111sdk.open_a111()\n",
    "\n",
    "# 显示进度条插件\n",
    "display(progress_widget)\n",
    "\n",
    "for i in range(total_loop):\n",
    "    progress_widget.value = i\n",
    "    progress_widget.description=\"Testing： \"+str(i+1)\n",
    "    a111sdk.a111_power_off()\n",
    "    time.sleep(1)\n",
    "    \n",
    "progress_widget.description=\"Test Done!\"\n",
    "# 重新上电，写入后读取tile寄存器的值，并检查读取值是否与写入的值一致\n",
    "a111sdk.a111_power_on()\n",
    "print(\"write 0x55AA55AA to tile 0's slave_addr0\")\n",
    "a111sdk.a111_write_tile_reg32(0, 0, 0x55AA55AA) #tile0, reg:slave_addr0\n",
    "time.sleep(0.2)\n",
    "print(\"read value of tile 0's slave_addr0\")\n",
    "t_val = a111sdk.a111_read_tile_reg32(0, 0)\n",
    "\n",
    "if 0x55AA55AA == t_val:\n",
    "    print(\"写入与读出值相同，测试成功\")\n",
    "else:\n",
    "    print(\"写入与读出值不同，测试失败！！！\")\n",
    "    \n",
    "a111sdk.a111_power_off()\n",
    "a111sdk.close_a111()"
   ]
  },
  {
   "cell_type": "markdown",
   "id": "0d589b4a",
   "metadata": {},
   "source": [
    "## case 4：随机上、下电若干次"
   ]
  },
  {
   "cell_type": "code",
   "execution_count": 15,
   "id": "505a1c72",
   "metadata": {},
   "outputs": [
    {
     "name": "stdout",
     "output_type": "stream",
     "text": [
      "设备已打开！\n"
     ]
    },
    {
     "data": {
      "application/vnd.jupyter.widget-view+json": {
       "model_id": "15dc5dab28404ae09c105e00bda66051",
       "version_major": 2,
       "version_minor": 0
      },
      "text/plain": [
       "IntProgress(value=0, bar_style='info', description='power on', max=9)"
      ]
     },
     "metadata": {},
     "output_type": "display_data"
    },
    {
     "data": {
      "application/vnd.jupyter.widget-view+json": {
       "model_id": "3abe3a81bb9e40e7a20b5edcf4ad183d",
       "version_major": 2,
       "version_minor": 0
      },
      "text/plain": [
       "IntProgress(value=0, bar_style='info', description='power off', max=9)"
      ]
     },
     "metadata": {},
     "output_type": "display_data"
    },
    {
     "data": {
      "application/vnd.jupyter.widget-view+json": {
       "model_id": "f75580f8e8da4226bf3d6b71dfc69592",
       "version_major": 2,
       "version_minor": 0
      },
      "text/plain": [
       "IntProgress(value=0, bar_style='success', description='Testing', max=4)"
      ]
     },
     "metadata": {},
     "output_type": "display_data"
    },
    {
     "name": "stdout",
     "output_type": "stream",
     "text": [
      "write 0x55AA55AA to tile 0's slave_addr0\n",
      "read value of tile 0's slave_addr0\n",
      "写入与读出值相同，测试成功\n"
     ]
    },
    {
     "data": {
      "text/plain": [
       "0"
      ]
     },
     "execution_count": 15,
     "metadata": {},
     "output_type": "execute_result"
    }
   ],
   "source": [
    "import time\n",
    "import ipywidgets as widgets\n",
    "import random\n",
    "import a111sdk\n",
    "\n",
    "total_loop = 5\n",
    "progress_widget = widgets.IntProgress(value=0, min=0, max=(total_loop-1), description=\"Testing\", bar_style='success')\n",
    "pon_widget = widgets.IntProgress(value=0, min=0, max=9, description=\"power on\", bar_style='info')\n",
    "poff_widget = widgets.IntProgress(value=0, min=0, max=9, description=\"power off\", bar_style='info')\n",
    "\n",
    "# 打开设备\n",
    "a111sdk.open_a111()\n",
    "\n",
    "# 显示进度条插件\n",
    "display(pon_widget)\n",
    "display(poff_widget)\n",
    "display(progress_widget)\n",
    "\n",
    "for i in range(total_loop):\n",
    "    progress_widget.value = i\n",
    "    progress_widget.description=\"Testing： \"+str(i+1)\n",
    "    cnt_on = random.randint(1,9)\n",
    "    pon_widget.max = cnt_on-1\n",
    "    for j in  range(cnt_on):\n",
    "        pon_widget.value = j\n",
    "        a111sdk.a111_power_on()\n",
    "        time.sleep(1)\n",
    "    \n",
    "    cnt_off = random.randint(1,9)\n",
    "    poff_widget.max = cnt_off-1\n",
    "    for k in range(cnt_off):\n",
    "        poff_widget.value = k\n",
    "        a111sdk.a111_power_off()\n",
    "        time.sleep(1)\n",
    "\n",
    "    pon_widget.value = 0\n",
    "    poff_widget.value = 0\n",
    "    \n",
    "progress_widget.description=\"Test Done!\"\n",
    "# 重新上电，写入后读取tile寄存器的值，并检查读取值是否与写入的值一致\n",
    "a111sdk.a111_power_on()\n",
    "print(\"write 0x55AA55AA to tile 0's slave_addr0\")\n",
    "a111sdk.a111_write_tile_reg32(0, 0, 0x55AA55AA) #tile0, reg:slave_addr0\n",
    "time.sleep(0.2)\n",
    "print(\"read value of tile 0's slave_addr0\")\n",
    "t_val = a111sdk.a111_read_tile_reg32(0, 0)\n",
    "\n",
    "if 0x55AA55AA == t_val:\n",
    "    print(\"写入与读出值相同，测试成功\")\n",
    "else:\n",
    "    print(\"写入与读出值不同，测试失败！！！\")\n",
    "    \n",
    "a111sdk.a111_power_off()\n",
    "a111sdk.close_a111()"
   ]
  },
  {
   "cell_type": "code",
   "execution_count": null,
   "id": "ece6bf51",
   "metadata": {},
   "outputs": [],
   "source": []
  },
  {
   "cell_type": "code",
   "execution_count": null,
   "id": "a3b3180a",
   "metadata": {},
   "outputs": [],
   "source": []
  }
 ],
 "metadata": {
  "kernelspec": {
   "display_name": "Python 3 (ipykernel)",
   "language": "python",
   "name": "python3"
  },
  "language_info": {
   "codemirror_mode": {
    "name": "ipython",
    "version": 3
   },
   "file_extension": ".py",
   "mimetype": "text/x-python",
   "name": "python",
   "nbconvert_exporter": "python",
   "pygments_lexer": "ipython3",
   "version": "3.7.0b3"
  },
  "toc": {
   "base_numbering": 1,
   "nav_menu": {},
   "number_sections": true,
   "sideBar": true,
   "skip_h1_title": false,
   "title_cell": "Table of Contents",
   "title_sidebar": "Contents",
   "toc_cell": false,
   "toc_position": {
    "height": "calc(100% - 180px)",
    "left": "10px",
    "top": "150px",
    "width": "333px"
   },
   "toc_section_display": true,
   "toc_window_display": true
  },
  "vp": {
   "vp_config_version": "1.0.0",
   "vp_menu_width": 273,
   "vp_note_display": false,
   "vp_note_width": 0,
   "vp_position": {
    "width": 278
   },
   "vp_section_display": true,
   "vp_signature": "VisualPython"
  }
 },
 "nbformat": 4,
 "nbformat_minor": 5
}
