{
 "cells": [
  {
   "cell_type": "markdown",
   "id": "d9848daa",
   "metadata": {},
   "source": [
    "# A111电压源基本操作以及相关测试"
   ]
  },
  {
   "cell_type": "markdown",
   "id": "bbdd8418",
   "metadata": {},
   "source": [
    "A111核心板上共有5组电压源，负责为A111芯片提供操作电压：\n",
    "\n",
    "- VOUTA（N_LVDAC）\n",
    "- VOUTB（P_LVDAC）\n",
    "- VOUTC（SA）\n",
    "- VOUTD（N_HVDAC）\n",
    "- VOUTE（P_HVDAC）\n",
    "\n",
    "FPGA上的CPU通过SPI总线(spi1 & spi2)分别连接ad5686r和ad5761r，从而控制各路电压；\n",
    "\n",
    "其中VOUTA~VOUTD由ad5686r控制，VOUTE由ad5761r控制：\n",
    "<div><br /><a href=\"pic/vsrc1.png\"><img style=\"float: left;\" src=\"pic/vsrc1.png\" width=900 title=\"点击放大看原图\"></a><br /></div>"
   ]
  },
  {
   "cell_type": "markdown",
   "id": "cd317240",
   "metadata": {},
   "source": [
    "设置好电压源的电压后，可以通过测量以下触点来验证设置是否成功：\n",
    "<div><br /><a href=\"pic/vsrc2.jpg\"><img style=\"float: left;\" src=\"pic/vsrc2.jpg\" width=500 title=\"点击放大看原图\"></a></div>"
   ]
  },
  {
   "cell_type": "markdown",
   "id": "c9dd8482",
   "metadata": {},
   "source": [
    "## 基本操作"
   ]
  },
  {
   "cell_type": "markdown",
   "id": "15536c73",
   "metadata": {},
   "source": [
    "### 电压源设置（电压单位：mV）"
   ]
  },
  {
   "cell_type": "code",
   "execution_count": null,
   "id": "67d58717",
   "metadata": {},
   "outputs": [],
   "source": [
    "import time\n",
    "import ipywidgets as widgets\n",
    "import a111sdk\n",
    "\n",
    "l = [\"VOUTA\", \"VOUTB\", \"VOUTC\", \"VOUTD\", \"VOUTE\"]\n",
    "chk = [widgets.Checkbox(description=a) for a in l]\n",
    "\n",
    "va = 552 \n",
    "vb = 958 \n",
    "vc = 200 \n",
    "vd = 1000\n",
    "ve = 5000\n",
    "\n",
    "# 打开设备（根据驱动的设计，设备打开后会自动上电，因此不需要主动调用“a111_power_on()”）\n",
    "a111sdk.open_a111()\n",
    "\n",
    "a111sdk.a111_vsource_set(a111sdk.VOUTA, va)  # set vouta to 552mV\n",
    "print(f\"请测量任一tile的电压源，检查VOUTA的值是否为 {va} mV，如果正确，请点选对应的CheckBox\")\n",
    "\n",
    "a111sdk.a111_vsource_set(a111sdk.VOUTB, vb)  # set voutb to 958mV\n",
    "print(f\"请测量任一tile的电压源，检查VOUTB的值是否为 {vb} mV，如果正确，请点选对应的CheckBox\")\n",
    "\n",
    "a111sdk.a111_vsource_set(a111sdk.VOUTC, vc)  # set voutc to 200mV\n",
    "print(f\"请测量任一tile的电压源，检查VOUTC的值是否为 {vc} mV，如果正确，请点选对应的CheckBox\")\n",
    "\n",
    "a111sdk.a111_vsource_set(a111sdk.VOUTD, vd)  # set voutd to 1000mV\n",
    "print(f\"请测量任一tile的电压源，检查VOUTD的值是否为 {vd} mV，如果正确，请点选对应的CheckBox\")\n",
    "\n",
    "a111sdk.a111_vsource_set(a111sdk.VOUTE, ve)  # set voute to 5000mV\n",
    "print(f\"请测量任一tile的电压源，检查VOUTE的值是否为 {ve} mV，如果正确，请点选对应的CheckBox\")\n",
    "\n",
    "def checkvsource(**kwargs):\n",
    "#     print([(k,v) for k, v in kwargs.items()])\n",
    "    a = ([(k,v) for k, v in kwargs.items()])\n",
    "    if a[0][1] and a[1][1] and a[2][1] and a[3][1] and a[4][1]:\n",
    "        print(\"测试结束，关闭设备\")\n",
    "        a111sdk.close_a111()\n",
    "\n",
    "widgets.interact(checkvsource, **{c.description: c.value for c in chk})"
   ]
  },
  {
   "cell_type": "markdown",
   "id": "f94f087e",
   "metadata": {},
   "source": [
    "### 电压源获取（电压单位：mV）\n",
    "\n",
    "关于电压源的获取，有两种方式：\n",
    "- 通过python接口函数\n",
    "- 通过linux终端命令\n",
    "\n",
    "下面先简单介绍一下命令行方式获取：\n",
    "<div><br /><a href=\"pic/vsrc3.png\"><img style=\"float: left;\" src=\"pic/vsrc3.png\" width=700 title=\"点击放大看原图\"></a><br /></div>"
   ]
  },
  {
   "cell_type": "markdown",
   "id": "490bcb68",
   "metadata": {},
   "source": [
    "接下来是python api方式获取电压源的值"
   ]
  },
  {
   "cell_type": "code",
   "execution_count": null,
   "id": "25208c68",
   "metadata": {},
   "outputs": [],
   "source": [
    "import time\n",
    "import ipywidgets as widgets\n",
    "import a111sdk\n",
    "\n",
    "va = 552 \n",
    "vb = 958 \n",
    "vc = 200 \n",
    "vd = 1000\n",
    "ve = 5000\n",
    "\n",
    "# 打开设备（根据驱动的设计，设备打开后会自动上电，因此不需要主动调用“a111_power_on()”）\n",
    "a111sdk.open_a111()\n",
    "\n",
    "a111sdk.a111_vsource_set(a111sdk.VOUTA, va)  # set vouta to 552mV\n",
    "a111sdk.a111_vsource_set(a111sdk.VOUTB, vb)  # set voutb to 958mV\n",
    "a111sdk.a111_vsource_set(a111sdk.VOUTC, vc)  # set voutc to 200mV\n",
    "a111sdk.a111_vsource_set(a111sdk.VOUTD, vd)  # set voutd to 1000mV\n",
    "a111sdk.a111_vsource_set(a111sdk.VOUTE, ve)  # set voute to 5000mV\n",
    "\n",
    "print(\"等待2秒。。。\")\n",
    "time.sleep(2)\n",
    "print(\"开始读取：\")\n",
    "\n",
    "a = a111sdk.a111_vsource_get(a111sdk.VOUTA)  # \n",
    "b = a111sdk.a111_vsource_get(a111sdk.VOUTB)  #\n",
    "c = a111sdk.a111_vsource_get(a111sdk.VOUTC)  # \n",
    "d = a111sdk.a111_vsource_get(a111sdk.VOUTD)  # \n",
    "e = a111sdk.a111_vsource_get(a111sdk.VOUTE)  # \n",
    "\n",
    "bias_a = abs(a-va)\n",
    "bias_b = abs(b-vb)\n",
    "bias_c = abs(c-vc)\n",
    "bias_d = abs(d-vd)\n",
    "bias_e = abs(e-ve)\n",
    "\n",
    "if bias_a <= 2 and bias_b <= 2 and bias_c <= 2 and bias_d <= 2 and bias_e <= 2:\n",
    "    print(f\"测试结束，所有值都正确, bias = {bias_a}/{bias_b}/{bias_c}/{bias_d}/{bias_e}\")\n",
    "else:\n",
    "    print(f\"Warning：电压值校验失败，请检查！ bias = {bias_a}/{bias_b}/{bias_c}/{bias_d}/{bias_e}\")\n",
    "\n",
    "a111sdk.close_a111()"
   ]
  },
  {
   "cell_type": "markdown",
   "id": "fb190119",
   "metadata": {},
   "source": [
    "## 边界测试与压力测试"
   ]
  },
  {
   "cell_type": "markdown",
   "id": "e07cb996",
   "metadata": {},
   "source": [
    "### AD5686R\n",
    "\n",
    "***根据ad5686r的[芯片手册](https://www.analog.com/media/en/technical-documentation/data-sheets/AD5686R_5685R_5684R.pdf)，它一共可以提供4路电压输出，对应我们程序中 a111sdk.VOUTA ~ a111sdk.VOUTD***\n",
    "<div><a href=\"pic/vsrc4.png\"><img style=\"float: left;border:3px solid blue\" src=\"pic/vsrc4.png\" width=1000 title=\"点击放大看原图\"></a><br /></div>"
   ]
  },
  {
   "cell_type": "markdown",
   "id": "cc4dbc14",
   "metadata": {},
   "source": [
    "\n",
    "根据GAIN pin的状态，我们可以得到两种最大输出电压：\n",
    "\n",
    "- GAIN pin接 $GND$，最大输出电压为2.5V；\n",
    "- GAIN pin接 $V_{LOGIC}$，最大输出电压为2.5V；\n",
    "\n",
    "**根据目前的硬件设计，ad5686r的最大额定输出电压为2.5V；**\n",
    "\n",
    "<div><a href=\"pic/vsrc5.png\"><img style=\"float: left;border:2px solid blue\" src=\"pic/vsrc5.png\" width=400 title=\"点击放大看原图\"></a><br /></div>\n",
    "\n",
    "$$\n",
    "\\newline\n",
    "$$\n",
    "\n"
   ]
  },
  {
   "cell_type": "markdown",
   "id": "e2820102",
   "metadata": {},
   "source": [
    "### AD5761R\n",
    "\n",
    "ad5761r（[用户手册](https://www.analog.com/media/en/technical-documentation/data-sheets/ad5761r_5721r.pdf)）用于控制我们程序中的电压源  $a111sdk.VOUTE$；\n",
    "\n",
    "<div><a href=\"pic/vsrc6.png\"><img style=\"float: left;border:2px solid blue\" src=\"pic/vsrc6.png\" width=400 title=\"点击放大看原图\"></a><br /></div>"
   ]
  },
  {
   "cell_type": "markdown",
   "id": "a943a518",
   "metadata": {},
   "source": [
    "与ad5686r不同，其输出电压的范围可以通过命令方式动态控制：\n",
    "\n",
    "<div>\n",
    "<div><a href=\"pic/vsrc7.png\"><img style=\"float: left;\" src=\"pic/vsrc7.png\" width=900 title=\"点击放大看原图\"></a><br /></div>\n",
    "\n",
    "<div><a href=\"pic/vsrc8.png\"><img style=\"float: left;\" src=\"pic/vsrc8.png\" width=800 title=\"点击放大看原图\"></a><br /></div>\n",
    "</div>\n",
    "\n"
   ]
  },
  {
   "cell_type": "markdown",
   "id": "43833fea",
   "metadata": {},
   "source": [
    "***根据产品的实际需求，我们将ad5761r的输出范围设置为-10V到+10V，这个设置是在驱动软件内部完成的，属于默认设置，未对用户侧开放；***"
   ]
  },
  {
   "cell_type": "markdown",
   "id": "c771ed0a",
   "metadata": {},
   "source": [
    "***"
   ]
  },
  {
   "cell_type": "markdown",
   "id": "a30f0929",
   "metadata": {},
   "source": [
    "*下面代码可以为不同电压源设置不同的电压值*"
   ]
  },
  {
   "cell_type": "code",
   "execution_count": 6,
   "id": "c280275e",
   "metadata": {},
   "outputs": [
    {
     "name": "stdout",
     "output_type": "stream",
     "text": [
      "设备已打开！\n"
     ]
    },
    {
     "data": {
      "application/vnd.jupyter.widget-view+json": {
       "model_id": "905b8f58cfc044b1843202a16c53787f",
       "version_major": 2,
       "version_minor": 0
      },
      "text/plain": [
       "interactive(children=(Dropdown(description='x', options={'选择电压源': 0, 'VOUTA': 1, 'VOUTB': 2, 'VOUTC': 3, 'VOUT…"
      ]
     },
     "metadata": {},
     "output_type": "display_data"
    },
    {
     "data": {
      "text/plain": [
       "<function __main__.test_vsrc(x, y)>"
      ]
     },
     "execution_count": 6,
     "metadata": {},
     "output_type": "execute_result"
    }
   ],
   "source": [
    "import ipywidgets as widgets\n",
    "import a111sdk\n",
    "\n",
    "# 打开设备（根据驱动的设计，设备打开后会自动上电，因此不需要主动调用“a111_power_on()”）\n",
    "a111sdk.open_a111()\n",
    "\n",
    "def test_vsrc(x, y):\n",
    "    vsrc=a111sdk.VOUTA\n",
    "    vname=\"VOUTA\"\n",
    "    if x==1:\n",
    "        vsrc=a111sdk.VOUTA\n",
    "        vname=\"VOUTA\"\n",
    "    elif x==2:\n",
    "        vsrc=a111sdk.VOUTB\n",
    "        vname=\"VOUTB\"\n",
    "    elif x==3:\n",
    "        vsrc=a111sdk.VOUTC\n",
    "        vname=\"VOUTC\"\n",
    "    elif x==4:\n",
    "        vsrc=a111sdk.VOUTD\n",
    "        vname=\"VOUTD\"\n",
    "    elif x==5:\n",
    "        vsrc=a111sdk.VOUTE\n",
    "        vname=\"VOUTE\"\n",
    "    elif x==6:\n",
    "        a111sdk.close_a111()\n",
    "        return\n",
    "    \n",
    "    if y != 0:\n",
    "        a111sdk.a111_vsource_set(vsrc, y)\n",
    "        print(f\"电压源{vname}已被设置为{y} mV，请测量电路板上的实际电压值！\")\n",
    "    return\n",
    "\n",
    "widgets.interact(test_vsrc, x={\"选择电压源\" : 0, \"VOUTA\" : 1, \"VOUTB\" : 2, \"VOUTC\" : 3, \"VOUTD\" : 4, \"VOUTE\" : 5, \"测试结束\":6}, \n",
    "                            y={\"选择电压值\":0, \"150mV\":150, \"250mV\":250, \"500mV\":500, \"800mV\":800, \n",
    "                                               \"1500mV\":1500, \"2500mv\":2500, \"5000mV\":5000, \"8000mV\":8000,\n",
    "                                               \"12000mV\":12000})\n"
   ]
  },
  {
   "cell_type": "code",
   "execution_count": null,
   "id": "fd8d7fe1",
   "metadata": {},
   "outputs": [],
   "source": []
  }
 ],
 "metadata": {
  "kernelspec": {
   "display_name": "Python 3 (ipykernel)",
   "language": "python",
   "name": "python3"
  },
  "language_info": {
   "codemirror_mode": {
    "name": "ipython",
    "version": 3
   },
   "file_extension": ".py",
   "mimetype": "text/x-python",
   "name": "python",
   "nbconvert_exporter": "python",
   "pygments_lexer": "ipython3",
   "version": "3.7.0b3"
  }
 },
 "nbformat": 4,
 "nbformat_minor": 5
}
