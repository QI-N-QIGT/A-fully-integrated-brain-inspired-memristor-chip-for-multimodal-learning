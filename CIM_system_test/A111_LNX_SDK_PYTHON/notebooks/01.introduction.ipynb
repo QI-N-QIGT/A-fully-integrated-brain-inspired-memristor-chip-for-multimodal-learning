{
 "cells": [
  {
   "cell_type": "markdown",
   "id": "3c5a2540",
   "metadata": {},
   "source": [
    "# 基于A111 SDK的Python开发包"
   ]
  },
  {
   "cell_type": "markdown",
   "id": "67b8e0e0",
   "metadata": {},
   "source": [
    "## 1.项目简介"
   ]
  },
  {
   "cell_type": "markdown",
   "id": "1d818169",
   "metadata": {},
   "source": [
    "本工程是基于A111 SDK（Linux驱动版）所构建的Python开发套件；\n",
    "\n",
    "针对主要的SDK API，用python语言重新进行封装，再结合jupyter notebook工具，为开发/测试人员提供了一套交互性较强的开发工具。"
   ]
  },
  {
   "cell_type": "markdown",
   "id": "b6aeed1a",
   "metadata": {},
   "source": [
    "***"
   ]
  },
  {
   "cell_type": "markdown",
   "id": "b337373b",
   "metadata": {},
   "source": [
    "## 2.硬件平台"
   ]
  },
  {
   "cell_type": "markdown",
   "id": "c0f761db",
   "metadata": {},
   "source": [
    "### 2.1 C210-A111集成测试环境\n",
    "\n",
    "<div><a href=\"pic/A111-C210-normal.jpg\"><img style=\"float: left;\" src=\"pic/A111-C210-normal.jpg\" width=500 title=\"点击放大看原图\"></a></div>"
   ]
  },
  {
   "cell_type": "markdown",
   "id": "f56b25ec",
   "metadata": {},
   "source": [
    "### 2.2 电源适配器\n",
    "<style>div{position:relative}</style>\n",
    "<div>\n",
    "    <a href=\"pic/C210-A111-adapter.jpg\"><img style=\"float: left;\" src=\"pic/C210-A111-adapter.jpg\" width=280 title=\"点击放大看原图\"></a>\n",
    "</div>"
   ]
  },
  {
   "cell_type": "markdown",
   "id": "d7be8fc3",
   "metadata": {},
   "source": [
    "**请尽量使用上图所示12V-5A电源，三项插头；若使用其它类型电源，可能导致锁相环/时钟紊乱，进而导致数据传输和计算出错！**"
   ]
  },
  {
   "cell_type": "markdown",
   "id": "bb635364",
   "metadata": {},
   "source": [
    "***"
   ]
  },
  {
   "cell_type": "markdown",
   "id": "3b1be1a3",
   "metadata": {},
   "source": [
    "## 3.使用方法"
   ]
  },
  {
   "cell_type": "markdown",
   "id": "63ff08bf",
   "metadata": {},
   "source": [
    "### 3.1启动jupyter notebook"
   ]
  },
  {
   "cell_type": "markdown",
   "id": "584b9153",
   "metadata": {},
   "source": [
    "在命令行终端里，notebook所在目录下，执行下面这条命令：\n",
    "\n",
    "\n",
    "```bash\n",
    "sudo jupyter notebook --allow-root\n",
    "```\n",
    "\n",
    "\n",
    "> 注意：此处使用root权限去打开jupyter，是为了在sdk中可以顺利打开linux设备\"/dev/c210-a111\"\n",
    "\n",
    "\n",
    "然后在PC的浏览器中，输入设备IP:8888，根据提示，输入密码“icfc”，即可打开笔记文件；\n"
   ]
  },
  {
   "cell_type": "markdown",
   "id": "46208432",
   "metadata": {},
   "source": [
    "<div><p>在终端中输入启动命令</p><a href=\"pic/note1.png\"><img style=\"float: left;\" src=\"pic/note1.png\" width=800 title=\"点击放大看原图\"></a></div>"
   ]
  },
  {
   "cell_type": "markdown",
   "id": "1a6b6df1",
   "metadata": {},
   "source": [
    "<div><p>jupyter notebook登录页面</p><a href=\"pic/note2.png\"><img style=\"float: left;\" src=\"pic/note2.png\" width=800 title=\"点击放大看原图\"></a></div>"
   ]
  },
  {
   "cell_type": "markdown",
   "id": "55a6132c",
   "metadata": {},
   "source": [
    "<div><p>jupyter笔记页面</p><a href=\"pic/note3.png\"><img style=\"float: left;\" src=\"pic/note3.png\" width=800 title=\"点击放大看原图\"></a></div>"
   ]
  },
  {
   "cell_type": "markdown",
   "id": "baf95038",
   "metadata": {},
   "source": [
    "### 3.2编辑并执行代码"
   ]
  },
  {
   "cell_type": "markdown",
   "id": "cb07307e",
   "metadata": {},
   "source": [
    "<div><p>导入a111 sdk包并执行简单的查询</p><br /><a href=\"pic/note4.png\"><img style=\"float: left;\" src=\"pic/note4.png\" width=1200 title=\"点击放大看原图\"></a></div>"
   ]
  },
  {
   "cell_type": "code",
   "execution_count": null,
   "id": "ee77697a",
   "metadata": {},
   "outputs": [],
   "source": []
  },
  {
   "cell_type": "code",
   "execution_count": null,
   "id": "80d928f0",
   "metadata": {},
   "outputs": [],
   "source": []
  },
  {
   "cell_type": "markdown",
   "id": "d99aceaf",
   "metadata": {},
   "source": [
    "> 以上就是基于a111 sdk的Python开发包的入门使用教程，关于Python API的进一步的使用，请继续看后续的教程笔记；"
   ]
  }
 ],
 "metadata": {
  "kernelspec": {
   "display_name": "Python 3 (ipykernel)",
   "language": "python",
   "name": "python3"
  },
  "language_info": {
   "codemirror_mode": {
    "name": "ipython",
    "version": 3
   },
   "file_extension": ".py",
   "mimetype": "text/x-python",
   "name": "python",
   "nbconvert_exporter": "python",
   "pygments_lexer": "ipython3",
   "version": "3.7.0b3"
  }
 },
 "nbformat": 4,
 "nbformat_minor": 5
}
