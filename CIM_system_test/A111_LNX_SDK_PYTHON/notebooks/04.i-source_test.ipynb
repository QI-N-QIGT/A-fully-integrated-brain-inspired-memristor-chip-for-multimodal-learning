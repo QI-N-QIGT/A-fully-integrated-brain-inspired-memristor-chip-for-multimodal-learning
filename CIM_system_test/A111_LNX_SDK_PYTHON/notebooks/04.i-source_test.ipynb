{
 "cells": [
  {
   "cell_type": "markdown",
   "id": "504936b0",
   "metadata": {},
   "source": [
    "# A111电流源基本操作以及相关测试"
   ]
  },
  {
   "cell_type": "markdown",
   "id": "d606b8fe",
   "metadata": {},
   "source": [
    "A111核心板为每个Tile独立提供4组电流源\n",
    "\n",
    "- IREFN_HVDAC  \n",
    "- IREF_IDAC_ADC\n",
    "- IREF_OTA     \n",
    "- IREF_IDAC_SA \n",
    "\n",
    "FPGA上的CPU通过I2C总线(i2c0 & i2c1)连接至TCA9548A([用户手册](https://www.ti.com/lit/ds/symlink/tca9548a.pdf))，TCA9548A是一款8通道i2c转换芯片，外接6片DAC53204，每片DAC53204([用户手册](https://www.ti.com.cn/cn/lit/ds/symlink/dac53204.pdf))可以提供4路电流源输出，从而为A111的各个tile提供供电电流；\n",
    "\n",
    "<div><br /><a href=\"pic/isrc1.png\"><img style=\"float: left;\" src=\"pic/isrc1.png\" width=900 title=\"点击放大看原图\"></a><br /></div>"
   ]
  },
  {
   "cell_type": "markdown",
   "id": "c62734ed",
   "metadata": {},
   "source": [
    "设置好电流源的电压后，可以通过测量以下触点来验证设置是否成功：\n",
    "<div><br /><a href=\"pic/isrc2.jpg\"><img style=\"float: left;\" src=\"pic/isrc2.jpg\" width=500 title=\"点击放大看原图\"></a><br /></div>"
   ]
  },
  {
   "cell_type": "markdown",
   "id": "00db5375",
   "metadata": {},
   "source": [
    "## 基本操作"
   ]
  },
  {
   "cell_type": "markdown",
   "id": "38c259eb",
   "metadata": {},
   "source": [
    "### 电流源设置（电流单位：uA）"
   ]
  },
  {
   "cell_type": "code",
   "execution_count": null,
   "id": "f395c29f",
   "metadata": {},
   "outputs": [],
   "source": [
    "import time\n",
    "import ipywidgets as widgets\n",
    "import a111sdk\n",
    "\n",
    "l = [\"IREFN_HVDAC\", \"IREF_IDAC_ADC\", \"IREF_OTA\", \"IREF_IDAC_SA\"]\n",
    "chk = [widgets.Checkbox(description=a) for a in l]\n",
    "\n",
    "ia = -8 \n",
    "ib = 24 \n",
    "ic = -5 \n",
    "id = 24\n",
    "\n",
    "\n",
    "# 打开设备（根据驱动的设计，设备打开后会自动上电，因此不需要主动调用“a111_power_on()”）\n",
    "a111sdk.open_a111()\n",
    "\n",
    "a111sdk.a111_isource_set(a111sdk.TILE0, a111sdk.IREFN_HVDAC, ia)\n",
    "print(f\"请测量tile0的电流源，检查值是否为 {ia} uA，如果正确，请点选对应的CheckBox\")\n",
    "\n",
    "a111sdk.a111_isource_set(a111sdk.TILE0, a111sdk.IREF_IDAC_ADC, ib)\n",
    "print(f\"请测量tile0的电流源，检查值是否为 {ib} uA，如果正确，请点选对应的CheckBox\")\n",
    "\n",
    "a111sdk.a111_isource_set(a111sdk.TILE0, a111sdk.IREF_OTA, ic)\n",
    "print(f\"请测量tile0的电流源，检查值是否为 {ic} uA，如果正确，请点选对应的CheckBox\")\n",
    "\n",
    "a111sdk.a111_isource_set(a111sdk.TILE0, a111sdk.IREF_IDAC_SA, id)\n",
    "print(f\"请测量tile0的电流源，检查值是否为 {id} uA，如果正确，请点选对应的CheckBox\")\n",
    "\n",
    "def checkvsource(**kwargs):\n",
    "    a = ([(k,v) for k, v in kwargs.items()])\n",
    "    if a[0][1] and a[1][1] and a[2][1] and a[3][1]:\n",
    "        print(\"测试结束，即将关闭设备\")\n",
    "        time.sleep(1.2)\n",
    "        a111sdk.close_a111()\n",
    "\n",
    "widgets.interact(checkvsource, **{c.description: c.value for c in chk})"
   ]
  },
  {
   "cell_type": "markdown",
   "id": "1ba93e0e",
   "metadata": {},
   "source": [
    "### 电流源获取（电流单位：uA）\n",
    "关于电流源的获取，有两种方式：\n",
    "\n",
    "通过python接口函数\n",
    "通过linux终端命令\n",
    "下面先简单介绍一下命令行方式获取：\n",
    "\n",
    "<div><br /><a href=\"pic/isrc3.png\"><img style=\"float: left;\" src=\"pic/isrc3.png\" width=600 title=\"点击放大看原图\"></a><br /></div>"
   ]
  },
  {
   "cell_type": "markdown",
   "id": "402e6583",
   "metadata": {},
   "source": [
    "接下来是python api方式获取电流源的值"
   ]
  },
  {
   "cell_type": "code",
   "execution_count": 2,
   "id": "41e0acae",
   "metadata": {
    "scrolled": true
   },
   "outputs": [
    {
     "name": "stdout",
     "output_type": "stream",
     "text": [
      "设备已打开！\n",
      "等待2秒。。。\n",
      "开始读取：\n",
      "测试结束，所有值都正确, bias = 1/1/1/1\n",
      "设备已关闭！\n"
     ]
    }
   ],
   "source": [
    "import time\n",
    "import ipywidgets as widgets\n",
    "import a111sdk\n",
    "\n",
    "ia = -8\n",
    "ib = 24 \n",
    "ic = -5 \n",
    "id = 24\n",
    "\n",
    "# 打开设备（根据驱动的设计，设备打开后会自动上电，因此不需要主动调用“a111_power_on()”）\n",
    "a111sdk.open_a111()\n",
    "\n",
    "a111sdk.a111_isource_set(a111sdk.TILE0, a111sdk.IREFN_HVDAC, ia)\n",
    "a111sdk.a111_isource_set(a111sdk.TILE0, a111sdk.IREF_IDAC_ADC, ib)\n",
    "a111sdk.a111_isource_set(a111sdk.TILE0, a111sdk.IREF_OTA, ic)\n",
    "a111sdk.a111_isource_set(a111sdk.TILE0, a111sdk.IREF_IDAC_SA, id)\n",
    "\n",
    "a111sdk.a111_isource_set(a111sdk.TILE1, a111sdk.IREFN_HVDAC, ia)\n",
    "a111sdk.a111_isource_set(a111sdk.TILE1, a111sdk.IREF_IDAC_ADC, ib)\n",
    "a111sdk.a111_isource_set(a111sdk.TILE1, a111sdk.IREF_OTA, ic)\n",
    "a111sdk.a111_isource_set(a111sdk.TILE1, a111sdk.IREF_IDAC_SA, id)\n",
    "\n",
    "a111sdk.a111_isource_set(a111sdk.TILE2, a111sdk.IREFN_HVDAC, ia)\n",
    "a111sdk.a111_isource_set(a111sdk.TILE2, a111sdk.IREF_IDAC_ADC, ib)\n",
    "a111sdk.a111_isource_set(a111sdk.TILE2, a111sdk.IREF_OTA, ic)\n",
    "a111sdk.a111_isource_set(a111sdk.TILE2, a111sdk.IREF_IDAC_SA, id)\n",
    "\n",
    "a111sdk.a111_isource_set(a111sdk.TILE3, a111sdk.IREFN_HVDAC, ia)\n",
    "a111sdk.a111_isource_set(a111sdk.TILE3, a111sdk.IREF_IDAC_ADC, ib)\n",
    "a111sdk.a111_isource_set(a111sdk.TILE3, a111sdk.IREF_OTA, ic)\n",
    "a111sdk.a111_isource_set(a111sdk.TILE3, a111sdk.IREF_IDAC_SA, id)\n",
    "\n",
    "a111sdk.a111_isource_set(a111sdk.TILE4, a111sdk.IREFN_HVDAC, ia)\n",
    "a111sdk.a111_isource_set(a111sdk.TILE4, a111sdk.IREF_IDAC_ADC, ib)\n",
    "a111sdk.a111_isource_set(a111sdk.TILE4, a111sdk.IREF_OTA, ic)\n",
    "a111sdk.a111_isource_set(a111sdk.TILE4, a111sdk.IREF_IDAC_SA, id)\n",
    "\n",
    "a111sdk.a111_isource_set(a111sdk.TILE5, a111sdk.IREFN_HVDAC, ia)\n",
    "a111sdk.a111_isource_set(a111sdk.TILE5, a111sdk.IREF_IDAC_ADC, ib)\n",
    "a111sdk.a111_isource_set(a111sdk.TILE5, a111sdk.IREF_OTA, ic)\n",
    "a111sdk.a111_isource_set(a111sdk.TILE5, a111sdk.IREF_IDAC_SA, id)\n",
    "\n",
    "\n",
    "print(\"等待2秒。。。\")\n",
    "time.sleep(2)\n",
    "print(\"开始读取：\")\n",
    "\n",
    "a = a111sdk.a111_isource_get(a111sdk.TILE0, a111sdk.IREFN_HVDAC)  # \n",
    "b = a111sdk.a111_isource_get(a111sdk.TILE0, a111sdk.IREF_IDAC_ADC)  #\n",
    "c = a111sdk.a111_isource_get(a111sdk.TILE0, a111sdk.IREF_OTA)  # \n",
    "d = a111sdk.a111_isource_get(a111sdk.TILE0, a111sdk.IREF_IDAC_SA)  # \n",
    "\n",
    "bias_a = abs(abs(a)-abs(ia))\n",
    "bias_b = abs(abs(b)-abs(ib))\n",
    "bias_c = abs(abs(c)-abs(ic))\n",
    "bias_d = abs(abs(d)-abs(id))\n",
    "\n",
    "if bias_a <= 2 and bias_b <= 2 and bias_c <= 2 and bias_d <= 2:\n",
    "    print(f\"测试结束，所有值都正确, bias = {bias_a}/{bias_b}/{bias_c}/{bias_d}\")\n",
    "else:\n",
    "    print(f\"Warning：电流值校验失败，请检查！ value= {a}/{b}/{c}/{d},bias = {bias_a}/{bias_b}/{bias_c}/{bias_d}\")\n",
    "\n",
    "a111sdk.close_a111()"
   ]
  },
  {
   "cell_type": "markdown",
   "id": "48551649",
   "metadata": {},
   "source": [
    "## 边界测试与压力测试"
   ]
  },
  {
   "cell_type": "markdown",
   "id": "48086647",
   "metadata": {},
   "source": [
    "### DAC53204\n",
    "\n",
    "DAC53204是一款10位4通道DAC，可以输出电压和电流，支持I2C和SPI连接；四通道的输出分别对应的电流源为：\n",
    "\n",
    "- IREFN_HVDAC    #通道0，对应寄存器为0x19\n",
    "- IREF_IDAC_ADC   #通道1，对应寄存器为0x1A\n",
    "- IREF_OTA      #通道2，对应寄存器为0x1B\n",
    "- IREF_IDAC_SA   #通道3，对应寄存器为0x1C\n",
    "\n",
    "在我们的硬件设计中，使用的是I2C连接；\n",
    "\n",
    "<div><a href=\"pic/isrc4.png\"><img style=\"float: left;border:3px solid blue\" src=\"pic/isrc4.png\" width=750 title=\"点击放大看原图\"></a><br /></div>"
   ]
  },
  {
   "cell_type": "markdown",
   "id": "f27f44a8",
   "metadata": {},
   "source": [
    "DAC53204 输出电流的量程可以通过编程进行控制，目前，根据硬件设计和实际使用需求，我们设置输出范围为 $-25uA \\sim 25uA$"
   ]
  },
  {
   "cell_type": "markdown",
   "id": "732d5df1",
   "metadata": {},
   "source": [
    "***"
   ]
  },
  {
   "cell_type": "markdown",
   "id": "6e1694b1",
   "metadata": {},
   "source": [
    "*下面代码可以为不同电流源设置不同的电流值*"
   ]
  },
  {
   "cell_type": "code",
   "execution_count": 8,
   "id": "b6f0f441",
   "metadata": {},
   "outputs": [
    {
     "name": "stdout",
     "output_type": "stream",
     "text": [
      "设备已打开！\n"
     ]
    },
    {
     "data": {
      "application/vnd.jupyter.widget-view+json": {
       "model_id": "5cb4463ee9774eb8a5de019877f146c0",
       "version_major": 2,
       "version_minor": 0
      },
      "text/plain": [
       "interactive(children=(Dropdown(description='x', options={'TILE0': 0, 'TILE1': 1, 'TILE2': 2, 'TILE3': 3, 'TILE…"
      ]
     },
     "metadata": {},
     "output_type": "display_data"
    },
    {
     "data": {
      "text/plain": [
       "<function __main__.test_isrc(x, y, z)>"
      ]
     },
     "execution_count": 8,
     "metadata": {},
     "output_type": "execute_result"
    }
   ],
   "source": [
    "import ipywidgets as widgets\n",
    "import a111sdk\n",
    "\n",
    "# 打开设备（根据驱动的设计，设备打开后会自动上电，因此不需要主动调用“a111_power_on()”）\n",
    "a111sdk.open_a111()\n",
    "\n",
    "\n",
    "def test_isrc(x, y, z):\n",
    "    tile=a111sdk.TILE0\n",
    "    isrc=a111sdk.IREFN_HVDAC\n",
    "    iname=\"IREFN_HVDAC\"\n",
    "    \n",
    "    if x==0:\n",
    "        tile=a111sdk.TILE0\n",
    "    elif x==1:\n",
    "        tile=a111sdk.TILE1\n",
    "    elif x==2:\n",
    "        tile=a111sdk.TILE2\n",
    "    elif x==3:\n",
    "        tile=a111sdk.TILE3\n",
    "    elif x==4:\n",
    "        tile=a111sdk.TILE4\n",
    "    elif x==5:\n",
    "        tile=a111sdk.TILE5\n",
    "    else:\n",
    "        tile=a111sdk.TILE0\n",
    "    \n",
    "    if y==1:\n",
    "        isrc=a111sdk.IREFN_HVDAC\n",
    "        iname=\"IREFN_HVDAC\"\n",
    "    elif y==2:\n",
    "        isrc=a111sdk.IREF_IDAC_ADC\n",
    "        iname=\"IREF_IDAC_ADC\"\n",
    "    elif y==3:\n",
    "        isrc=a111sdk.IREF_OTA\n",
    "        iname=\"IREF_OTA\"\n",
    "    elif y==4:\n",
    "        isrc=a111sdk.IREF_IDAC_SA\n",
    "        iname=\"IREF_IDAC_SA\"\n",
    "    elif y==5:\n",
    "        a111sdk.close_a111()\n",
    "        return\n",
    "    \n",
    "    if z != 0:\n",
    "        a111sdk.a111_isource_set(tile, isrc, z)\n",
    "        print(f\"电压源{iname}已被设置为{z} uA，请测量电路板上的实际电流值！\")\n",
    "    return\n",
    "\n",
    "widgets.interact(test_isrc, x={\"TILE0\":a111sdk.TILE0, \"TILE1\":a111sdk.TILE1, \"TILE2\":a111sdk.TILE2, \"TILE3\":a111sdk.TILE3, \"TILE4\":a111sdk.TILE4, \"TILE5\":a111sdk.TILE5},\n",
    "                            y={\"选择电流源\" : 0, \"IREFN_HVDAC\" : 1, \"IREF_IDAC_ADC\" : 2, \"IREF_OTA\" : 3, \"IREF_IDAC_SA\" : 4, \"测试结束\":5}, \n",
    "                            z={\"选择电流值\":0, \"-22uA\":-22, \"-18uA\":-18, \"-15uA\":-15, \"-10uA\":-10, \n",
    "                                               \"-5uA\":-5, \"-2uA\":-2, \"2uA\":2, \"5uA\":5, \"10uA\":10,\n",
    "                                               \"15uA\":15, \"18uA\":18, \"22uA\":22})\n"
   ]
  },
  {
   "cell_type": "code",
   "execution_count": 9,
   "id": "5c772812",
   "metadata": {},
   "outputs": [
    {
     "name": "stdout",
     "output_type": "stream",
     "text": [
      "N-HVDAC is -19 uA\r",
      "\r\n"
     ]
    }
   ],
   "source": [
    "!cat /sys/class/icfc-npu/c210-a111/isource/T0/N_HVDAC"
   ]
  },
  {
   "cell_type": "code",
   "execution_count": null,
   "id": "2caa8e7b",
   "metadata": {},
   "outputs": [],
   "source": []
  }
 ],
 "metadata": {
  "kernelspec": {
   "display_name": "Python 3 (ipykernel)",
   "language": "python",
   "name": "python3"
  },
  "language_info": {
   "codemirror_mode": {
    "name": "ipython",
    "version": 3
   },
   "file_extension": ".py",
   "mimetype": "text/x-python",
   "name": "python",
   "nbconvert_exporter": "python",
   "pygments_lexer": "ipython3",
   "version": "3.7.0b3"
  }
 },
 "nbformat": 4,
 "nbformat_minor": 5
}
