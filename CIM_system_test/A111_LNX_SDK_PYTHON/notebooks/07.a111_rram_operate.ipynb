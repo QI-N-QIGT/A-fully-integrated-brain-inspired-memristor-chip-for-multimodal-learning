{
 "cells": [
  {
   "cell_type": "markdown",
   "id": "4ef4d598",
   "metadata": {},
   "source": [
    "# A111 RRAM区块操作"
   ]
  },
  {
   "cell_type": "markdown",
   "id": "2fb563b1",
   "metadata": {},
   "source": [
    "## crossbar(XB) 基本信息"
   ]
  },
  {
   "cell_type": "markdown",
   "id": "a47d93a9",
   "metadata": {},
   "source": [
    "每个TILE含有8个xb，每两个xb可以独立工作，也可以组合进行计算；\n",
    "\n",
    "XB阵列模块为320行128列的2T2R阵列："
   ]
  },
  {
   "cell_type": "markdown",
   "id": "83a1d28f",
   "metadata": {},
   "source": [
    "<div><a href=\"pic/xb1.png\"><img style=\"float: left;\" src=\"pic/xb1.png\" width=300 title=\"点击放大看原图\"></a></div>"
   ]
  },
  {
   "cell_type": "markdown",
   "id": "49d9e06c",
   "metadata": {},
   "source": [
    "<div><a href=\"pic/xb2.png\"><img style=\"float: left;\" src=\"pic/xb2.png\" width=600 title=\"点击放大看原图\"></a></div>"
   ]
  },
  {
   "cell_type": "code",
   "execution_count": 1,
   "id": "29b0d2ce",
   "metadata": {},
   "outputs": [],
   "source": [
    "import numpy as np\n",
    "import pandas as pd\n",
    "import a111sdk"
   ]
  },
  {
   "cell_type": "code",
   "execution_count": 2,
   "id": "7cca7af1",
   "metadata": {},
   "outputs": [],
   "source": [
    "# 给定csv路径，读取数据\n",
    "def pd_read_data(data_path):\n",
    "    data = pd.read_csv(data_path, header=None, index_col=None).values\n",
    "    return data\n",
    "\n",
    "# 给定pt形式的数组，制作rram格式的数组，即pt顺序的格式转为rram4i+j的格式\n",
    "def pt_sequence_2_rram_discretization(pt_sequence):\n",
    "    pt_sequence_row, pt_sequence_colum = pt_sequence.shape\n",
    "    rram_discretization = np.zeros([pt_sequence_row, 128])\n",
    "    pt_sequence_128colum = np.zeros([pt_sequence_row, 128])\n",
    "    pt_sequence_128colum[:, :pt_sequence_colum] = pt_sequence\n",
    "    # 遍历127次，对应索引为：pt0-rram0,pt1-rram4,pt31-rram124,pt32-rram1,pt126-rram123,pt127-rram127\n",
    "    for rram_colum in range(127):\n",
    "        mapping_index = (4 * rram_colum) % 127\n",
    "        rram_discretization[:, mapping_index] = pt_sequence_128colum[:, rram_colum]\n",
    "    # 最后一次需要单独赋值，pt127-rram127\n",
    "    rram_discretization[:, 127] = pt_sequence_128colum[:, 127]\n",
    "    return rram_discretization\n",
    "\n",
    "\n",
    "# 给定pt形式的权重，转为rram需要的权重，包括具体值大小和格式\n",
    "def trans_pt_weight_2_rram(pt_weight):\n",
    "    # 对于pt的3值权重，映射到rram上需要改变具体值，也就是rram = pt x pos_sa 或者rram = pt x neg_sa\n",
    "    pos_sa = 5\n",
    "    neg_sa = 5\n",
    "\n",
    "    row, colum = pt_weight.shape\n",
    "    # 转换原始pt权重为2T2R权重\n",
    "    rram_weight = np.zeros([row * 2, colum])\n",
    "    pos_weight = np.zeros_like(pt_weight)\n",
    "    neg_weight = np.zeros_like(pt_weight)\n",
    "    flag = pt_weight > 0\n",
    "    pos_weight[flag] = pos_sa\n",
    "    flag = pt_weight < 0\n",
    "    neg_weight[flag] = neg_sa\n",
    "    rram_weight[::2, :] = pos_weight\n",
    "    rram_weight[1::2, :] = neg_weight\n",
    "    # 根据芯片mapping策略，重构rram权重（每隔4列存一个数据，满列操作，即128列都用）\n",
    "    sub_mapping_weight = pt_sequence_2_rram_discretization(rram_weight)\n",
    "    # 补全其余行的数据，最终芯片mapping的权重需求为640x128的矩阵\n",
    "    mapping_weight = np.zeros([640, 128])\n",
    "    mapping_weight[:rram_weight.shape[0]] = sub_mapping_weight\n",
    "    mapping_weight = mapping_weight.astype(np.uint8)\n",
    "    return mapping_weight\n",
    "\n",
    "# 给定rram格式的权重、tile、xb，自动mapping权重\n",
    "def auto_mapping_weight(pt_weight_2_rram, tile=0, xb=0):\n",
    "    rram_weight_demo = pt_weight_2_rram\n",
    "    row_begin, row_length, colum_begin, colum_length = [0, rram_weight_demo.shape[0], 0, rram_weight_demo.shape[1]]\n",
    "    index = [row_begin, colum_begin, row_length, colum_length]\n",
    "    # rram_weight_demo 大小为32x32，index为 [0, 32, 0, 32]\n",
    "    a111sdk.a111_mapping_weight(rram_weight_demo, tile_id=tile, xb_id=xb, addr=index)"
   ]
  },
  {
   "cell_type": "markdown",
   "id": "8a5aff6e",
   "metadata": {},
   "source": [
    "## 写入RRAM值"
   ]
  },
  {
   "cell_type": "code",
   "execution_count": 4,
   "id": "a1358e67",
   "metadata": {},
   "outputs": [
    {
     "name": "stdout",
     "output_type": "stream",
     "text": [
      "设备已打开！\n",
      "weight max :5\n",
      "weight min :0\n",
      "weight shape:(640, 128)\n",
      "硬件初始化成功！！！\n",
      "时钟初始化成功！！！\n",
      "开始 program 第 0 次======>\n",
      "map cnt:[000],pass:77366,check:00000,set:04544,reset:00010,form:00000,final:00000,Total:81920\n",
      "map cnt:[001],pass:78427,check:00005,set:03473,reset:00015,form:00000,final:00000,Total:81920\n",
      "map cnt:[002],pass:78211,check:00391,set:03317,reset:00001,form:00000,final:00000,Total:81920\n",
      "map cnt:[003],pass:01019,check:00395,set:03144,reset:00001,form:00000,final:77361,Total:81920\n",
      "map cnt:[004],pass:00522,check:00148,set:03293,reset:00000,form:00000,final:77957,Total:81920\n",
      "map cnt:[005],pass:00658,check:00156,set:03013,reset:00000,form:00000,final:78093,Total:81920\n",
      "map cnt:[006],pass:00699,check:00135,set:02863,reset:00000,form:00000,final:78223,Total:81920\n",
      "map cnt:[007],pass:00670,check:00133,set:02779,reset:00000,form:00000,final:78338,Total:81920\n",
      "map cnt:[008],pass:00493,check:00107,set:02708,reset:00000,form:00000,final:78612,Total:81920\n",
      "map cnt:[009],pass:00392,check:00098,set:02645,reset:00000,form:00000,final:78785,Total:81920\n",
      "map cnt:[010],pass:00338,check:00088,set:02600,reset:00000,form:00000,final:78894,Total:81920\n",
      "map cnt:[011],pass:00264,check:00079,set:02573,reset:00001,form:00000,final:79003,Total:81920\n",
      "map cnt:[012],pass:00240,check:00057,set:02545,reset:00000,form:00000,final:79078,Total:81920\n",
      "map cnt:[013],pass:00216,check:00047,set:02503,reset:00000,form:00000,final:79154,Total:81920\n",
      "map cnt:[014],pass:00172,check:00059,set:02480,reset:00000,form:00000,final:79209,Total:81920\n",
      "map cnt:[015],pass:00169,check:00038,set:02454,reset:00000,form:00000,final:79259,Total:81920\n",
      "map cnt:[016],pass:00138,check:00036,set:00020,reset:00000,form:02412,final:79314,Total:81920\n",
      "map cnt:[017],pass:00312,check:00025,set:02226,reset:00008,form:00000,final:79349,Total:81920\n",
      "map cnt:[018],pass:00295,check:00024,set:02201,reset:00007,form:00000,final:79393,Total:81920\n",
      "map cnt:[019],pass:00276,check:00023,set:02179,reset:00001,form:00010,final:79431,Total:81920\n",
      "map cnt:[020],pass:00096,check:00027,set:02169,reset:00000,form:00000,final:79628,Total:81920\n",
      "map cnt:[021],pass:00081,check:00017,set:00007,reset:00000,form:02154,final:79661,Total:81920\n",
      "map cnt:[022],pass:00127,check:00008,set:02094,reset:00005,form:00001,final:79685,Total:81920\n",
      "map cnt:[023],pass:00101,check:00013,set:02087,reset:00005,form:00000,final:79714,Total:81920\n",
      "map cnt:[024],pass:00083,check:00015,set:02083,reset:00001,form:00004,final:79734,Total:81920\n",
      "map cnt:[025],pass:00035,check:00008,set:02082,reset:00000,form:00000,final:79795,Total:81920\n",
      "map cnt:[026],pass:00032,check:00007,set:00004,reset:00000,form:02073,final:79804,Total:81920\n",
      "map cnt:[027],pass:00063,check:00003,set:02037,reset:00005,form:00001,final:79811,Total:81920\n",
      "map cnt:[028],pass:00052,check:00008,set:02034,reset:00003,form:00000,final:79823,Total:81920\n",
      "map cnt:[029],pass:00049,check:00008,set:02028,reset:00001,form:00002,final:79832,Total:81920\n",
      "map cnt:[030],pass:00025,check:00002,set:02028,reset:00001,form:00000,final:79864,Total:81920\n",
      "map cnt:[031],pass:00018,check:00004,set:00002,reset:00001,form:02025,final:79870,Total:81920\n",
      "map cnt:[032],pass:00041,check:00004,set:01984,reset:00013,form:00000,final:79878,Total:81920\n",
      "map cnt:[033],pass:00038,check:00007,set:01984,reset:00008,form:00000,final:79883,Total:81920\n",
      "map cnt:[034],pass:00043,check:00005,set:01981,reset:00003,form:00003,final:79885,Total:81920\n",
      "map cnt:[035],pass:00020,check:00006,set:01982,reset:00001,form:00000,final:79911,Total:81920\n",
      "map cnt:[036],pass:00018,check:00004,set:00003,reset:00003,form:01976,final:79916,Total:81920\n",
      "map cnt:[037],pass:00027,check:00002,set:01963,reset:00005,form:00000,final:79923,Total:81920\n",
      "map cnt:[038],pass:00023,check:00002,set:01960,reset:00006,form:00000,final:79929,Total:81920\n",
      "map cnt:[039],pass:00018,check:00005,set:01960,reset:00004,form:00000,final:79933,Total:81920\n",
      "map cnt:[040],pass:00011,check:00001,set:01961,reset:00001,form:00000,final:79946,Total:81920\n",
      "map cnt:[041],pass:00010,check:00002,set:00002,reset:00000,form:01958,final:79948,Total:81920\n",
      "map cnt:[042],pass:00021,check:00003,set:01934,reset:00013,form:00000,final:79949,Total:81920\n",
      "map cnt:[043],pass:00017,check:00001,set:01935,reset:00013,form:00000,final:79954,Total:81920\n",
      "map cnt:[044],pass:00016,check:00002,set:01936,reset:00009,form:00000,final:79957,Total:81920\n",
      "map cnt:[045],pass:00005,check:00002,set:01942,reset:00002,form:00000,final:79969,Total:81920\n",
      "map cnt:[046],pass:00009,check:00001,set:00002,reset:00005,form:01933,final:79970,Total:81920\n",
      "map cnt:[047],pass:00010,check:00002,set:01922,reset:00015,form:00000,final:79971,Total:81920\n",
      "map cnt:[048],pass:00010,check:00003,set:01919,reset:00015,form:00000,final:79973,Total:81920\n",
      "map cnt:[049],pass:00006,check:00004,set:01920,reset:00013,form:00000,final:79977,Total:81920\n",
      "map cnt:[050],pass:00010,check:00001,set:01924,reset:00006,form:00000,final:79979,Total:81920\n",
      "map cnt:[051],pass:00010,check:00004,set:00003,reset:00005,form:01917,final:79981,Total:81920\n",
      "map cnt:[052],pass:00009,check:00007,set:01896,reset:00026,form:00000,final:79982,Total:81920\n",
      "map cnt:[053],pass:00012,check:00004,set:01894,reset:00027,form:00000,final:79983,Total:81920\n",
      "map cnt:[054],pass:00013,check:00005,set:01899,reset:00017,form:00000,final:79986,Total:81920\n",
      "map cnt:[055],pass:00017,check:00006,set:01901,reset:00008,form:00000,final:79988,Total:81920\n",
      "map cnt:[056],pass:00016,check:00005,set:00008,reset:00008,form:01893,final:79990,Total:81920\n",
      "map cnt:[057],pass:00011,check:00006,set:01892,reset:00016,form:00000,final:79995,Total:81920\n",
      "map cnt:[058],pass:00007,check:00008,set:01888,reset:00018,form:00000,final:79999,Total:81920\n",
      "map cnt:[059],pass:00015,check:00003,set:01890,reset:00013,form:00000,final:79999,Total:81920\n",
      "map cnt:[060],pass:00015,check:00003,set:01887,reset:00013,form:00000,final:80002,Total:81920\n",
      "map cnt:[061],pass:00014,check:00005,set:00010,reset:00005,form:01883,final:80003,Total:81920\n",
      "map cnt:[062],pass:00015,check:00004,set:01855,reset:00037,form:00000,final:80009,Total:81920\n",
      "map cnt:[063],pass:00016,check:00004,set:01861,reset:00026,form:00000,final:80013,Total:81920\n",
      "map cnt:[064],pass:00014,check:00007,set:01854,reset:00031,form:00000,final:80014,Total:81920\n",
      "map cnt:[065],pass:00015,check:00007,set:01867,reset:00012,form:00000,final:80019,Total:81920\n",
      "map cnt:[066],pass:00017,check:00004,set:00004,reset:00019,form:01853,final:80023,Total:81920\n",
      "map cnt:[067],pass:00020,check:00005,set:01851,reset:00019,form:00000,final:80025,Total:81920\n",
      "map cnt:[068],pass:00018,check:00005,set:01843,reset:00023,form:00000,final:80031,Total:81920\n",
      "map cnt:[069],pass:00018,check:00004,set:01847,reset:00016,form:00000,final:80035,Total:81920\n",
      "map cnt:[070],pass:00018,check:00002,set:01848,reset:00011,form:00000,final:80041,Total:81920\n",
      "map cnt:[071],pass:00011,check:00008,set:00007,reset:00009,form:01840,final:80045,Total:81920\n",
      "map cnt:[072],pass:00015,check:00004,set:01824,reset:00028,form:00000,final:80049,Total:81920\n",
      "map cnt:[073],pass:00012,check:00002,set:01827,reset:00027,form:00000,final:80052,Total:81920\n",
      "map cnt:[074],pass:00011,check:00002,set:01823,reset:00028,form:00000,final:80056,Total:81920\n",
      "map cnt:[075],pass:00015,check:00002,set:01828,reset:00014,form:00000,final:80061,Total:81920\n",
      "map cnt:[076],pass:00018,check:00004,set:00008,reset:00010,form:01819,final:80061,Total:81920\n",
      "map cnt:[077],pass:00018,check:00003,set:01816,reset:00019,form:00000,final:80064,Total:81920\n",
      "map cnt:[078],pass:00014,check:00003,set:01814,reset:00018,form:00000,final:80071,Total:81920\n",
      "map cnt:[079],pass:00012,check:00004,set:01813,reset:00017,form:00000,final:80074,Total:81920\n",
      "map cnt:[080],pass:00017,check:00001,set:01813,reset:00011,form:00000,final:80078,Total:81920\n",
      "map cnt:[081],pass:00011,check:00005,set:00009,reset:00006,form:01808,final:80081,Total:81920\n",
      "map cnt:[082],pass:00014,check:00004,set:01788,reset:00031,form:00000,final:80083,Total:81920\n",
      "map cnt:[083],pass:00011,check:00001,set:01793,reset:00026,form:00000,final:80089,Total:81920\n",
      "map cnt:[084],pass:00012,check:00001,set:01790,reset:00027,form:00000,final:80090,Total:81920\n",
      "map cnt:[085],pass:00006,check:00005,set:01796,reset:00018,form:00000,final:80095,Total:81920\n",
      "map cnt:[086],pass:00013,check:00003,set:00008,reset:00015,form:01786,final:80095,Total:81920\n"
     ]
    },
    {
     "name": "stdout",
     "output_type": "stream",
     "text": [
      "map cnt:[087],Program times : 1, Program cost time : 184.28397512435913s\n",
      "设备已关闭！\n"
     ]
    }
   ],
   "source": [
    "a111sdk.open_a111()\n",
    "\n",
    "pt_weight = pd_read_data(\"data/fc1_weight.csv\")\n",
    "pt_weight_2_rram = trans_pt_weight_2_rram(pt_weight)\n",
    "auto_mapping_weight(pt_weight_2_rram, tile=a111sdk.TILE0, xb=a111sdk.XB0)\n",
    "\n",
    "a111sdk.close_a111()"
   ]
  },
  {
   "cell_type": "markdown",
   "id": "9bf11351",
   "metadata": {},
   "source": [
    "## 读取RRAM值"
   ]
  },
  {
   "cell_type": "code",
   "execution_count": 5,
   "id": "dea2f184",
   "metadata": {
    "scrolled": true
   },
   "outputs": [
    {
     "name": "stdout",
     "output_type": "stream",
     "text": [
      "设备已打开！\n",
      "硬件初始化成功！！！\n",
      "时钟初始化成功！！！\n",
      "开始 read Tile[0].XB[0].[0,640,0,128] ======>\n",
      "=====================================\n",
      "tile[0].xb[0]: \n",
      "    weight max: 7\n",
      "    weight min: 0\n",
      "    weight mean: 0.22076416015625\n",
      "[[1 2 1 ... 0 1 0]\n",
      " [0 0 1 ... 0 1 0]\n",
      " [0 0 0 ... 0 0 0]\n",
      " ...\n",
      " [0 0 0 ... 0 0 0]\n",
      " [0 0 0 ... 0 0 0]\n",
      " [0 0 0 ... 0 0 0]]\n",
      "设备已关闭！\n"
     ]
    }
   ],
   "source": [
    "a111sdk.open_a111()\n",
    "rram_read_weight = a111sdk.a111_read_weight(a111sdk.TILE0, a111sdk.XB0)\n",
    "print(rram_read_weight)\n",
    "a111sdk.close_a111()"
   ]
  },
  {
   "cell_type": "code",
   "execution_count": null,
   "id": "ca014878",
   "metadata": {},
   "outputs": [],
   "source": []
  },
  {
   "cell_type": "code",
   "execution_count": null,
   "id": "58361b97",
   "metadata": {},
   "outputs": [],
   "source": []
  },
  {
   "cell_type": "code",
   "execution_count": null,
   "id": "dcc851fa",
   "metadata": {},
   "outputs": [],
   "source": []
  },
  {
   "cell_type": "code",
   "execution_count": null,
   "id": "3912afd0",
   "metadata": {},
   "outputs": [],
   "source": []
  },
  {
   "cell_type": "code",
   "execution_count": null,
   "id": "e74f6940",
   "metadata": {},
   "outputs": [],
   "source": []
  },
  {
   "cell_type": "code",
   "execution_count": null,
   "id": "38dd2634",
   "metadata": {},
   "outputs": [],
   "source": []
  }
 ],
 "metadata": {
  "kernelspec": {
   "display_name": "Python 3 (ipykernel)",
   "language": "python",
   "name": "python3"
  },
  "language_info": {
   "codemirror_mode": {
    "name": "ipython",
    "version": 3
   },
   "file_extension": ".py",
   "mimetype": "text/x-python",
   "name": "python",
   "nbconvert_exporter": "python",
   "pygments_lexer": "ipython3",
   "version": "3.7.0b3"
  }
 },
 "nbformat": 4,
 "nbformat_minor": 5
}
